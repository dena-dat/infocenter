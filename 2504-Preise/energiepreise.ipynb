{
 "cells": [
  {
   "cell_type": "code",
   "execution_count": 8,
   "id": "7ca9e47a-301d-4295-8027-0c48fd654de8",
   "metadata": {},
   "outputs": [],
   "source": [
    "# ...we just need this!\n",
    "import pandas as pd\n", 
    "import calendar, os, glob"
   ]
  },
  {
   "cell_type": "code",
   "execution_count": 11,
   "id": "a892c1c9",
   "metadata": {},
   "outputs": [],
   "source": [
    "# Data location\n",
    "url = \"https://thedocs.worldbank.org/en/doc/5d903e848db1d1b83e0ec8f744e55570-0350012021/related/CMO-Historical-Data-Monthly.xlsx\"\n",
    "\n",
    "# Direktes Einlesen der Excel-Datei aus der URL\n",
    "em_preise_boerse_raw = pd.read_excel(\n",
    "    url,\n",
    "    sheet_name=\"Monthly Prices\",\n",
    "    skiprows=[0,1,2,3,5],      # Überspringt die 5. Zeile (leere Zeile in den Rohdaten)\n",
    "    na_values=[\"…\", \"…,…\", \"…,…,…\"]  # Definiere fehlende Werte\n",
    ")\n",
    "\n",
    "# Speichern der Rohdaten, Ordner im aktuellen Verzeichnis erstellen, falls er nicht existiert\n",
    "if not os.path.exists(\"Data\"):\n",
    "    os.makedirs(\"Data\")\n",
    "\n",
    "# Umbennenen der Spalten\n",
    "em_preise_boerse_m = em_preise_boerse_raw.rename(columns={em_preise_boerse_raw.columns[0]: 'Date'})\n",
    "em_preise_boerse_m = em_preise_boerse_m.rename(columns={\n",
    "    'Crude oil, Brent': 'Rohöl, Brent ($/bbl)',\n",
    "    'Natural gas, Europe': 'Erdgas, TTF ($/mmbtu)',\n",
    "    'Coal, Australian': 'Steinkohle, Australien ($/mt)',\n",
    "    'Coal, South African **': 'Steinkohle, Südafrika ($/mt)'\n",
    "})\n",
    "\n",
    "# Gewünschte Spalten auswählen\n",
    "selected_columns = [\n",
    "    'Date',\n",
    "    'Rohöl, Brent ($/bbl)',\n",
    "    'Erdgas, TTF ($/mmbtu)',\n",
    "    'Steinkohle, Australien ($/mt)',\n",
    "    'Steinkohle, Südafrika ($/mt)'\n",
    "]\n",
    "em_preise_boerse_m = em_preise_boerse_m[selected_columns]\n",
    "\n",
    "# Speichern der Datentabelle\n",
    "save_path = os.path.join(\"Data\", \"em_preise_boerse_m.csv\")\n",
    "em_preise_boerse_m.to_csv(save_path, index=False)"
   ]
  }
 ],
 "metadata": {
  "kernelspec": {
   "display_name": "infoc_env",
   "language": "python",
   "name": "python3"
  },
  "language_info": {
   "codemirror_mode": {
    "name": "ipython",
    "version": 3
   },
   "file_extension": ".py",
   "mimetype": "text/x-python",
   "name": "python",
   "nbconvert_exporter": "python",
   "pygments_lexer": "ipython3",
   "version": "3.12.9"
  }
 },
 "nbformat": 4,
 "nbformat_minor": 5
}
